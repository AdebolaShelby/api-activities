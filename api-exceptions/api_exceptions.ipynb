{
 "cells": [
  {
   "cell_type": "code",
   "execution_count": 1,
   "metadata": {},
   "outputs": [],
   "source": [
    "# Dependencies\n",
    "import json\n",
    "import requests\n",
    "import pandas as pd"
   ]
  },
  {
   "cell_type": "code",
   "execution_count": 7,
   "metadata": {},
   "outputs": [
    {
     "name": "stdout",
     "output_type": "stream",
     "text": [
      "R2-D2 found! Appending stats\n",
      "Darth Vader found! Appending stats\n",
      "Godzilla not found\n",
      "Luke Skywalker found! Appending stats\n",
      "Frodo not found\n",
      "Boba Fett found! Appending stats\n",
      "Iron Man not found\n",
      "Jon Snow not found\n",
      "Han Solo found! Appending stats\n"
     ]
    }
   ],
   "source": [
    "# List of character\n",
    "search_characters = ['R2-D2', 'Darth Vader', 'Godzilla', 'Luke Skywalker', 'Frodo',\n",
    "                     'Boba Fett', 'Iron Man', 'Jon Snow', 'Han Solo']\n",
    "\n",
    "# Set url for API\n",
    "url = 'https://swapi.dev/api/people/?search='\n",
    "\n",
    "# Set empty lists to hold characters height and mass\n",
    "height = []\n",
    "mass = []\n",
    "characters = []\n",
    "\n",
    "\n",
    "# Loop through each character\n",
    "for character in search_characters:\n",
    "    # Create search query, make request and store in json\n",
    "    search_query = url + character\n",
    "    response = requests.get(search_query)\n",
    "    data = response.json()\n",
    "    #print(json.dumps(data, indent=4, sort_keys=True))\n",
    "    # Try to grab the height and mass of characters if they are available in the Star Wars API\n",
    "    try:\n",
    "        height.append(data['results'][0]['height'])\n",
    "        mass.append(data['results'][0]['mass'])\n",
    "        characters.append(character)\n",
    "        print(f\"{character} found! Appending stats\")\n",
    "        \n",
    "    # Handle exceptions for a character that is not available in the Star Wars API\n",
    "    except:\n",
    "        print(f\"{character} not found\")\n",
    "        pass\n",
    "    \n",
    "\n"
   ]
  },
  {
   "cell_type": "code",
   "execution_count": 10,
   "metadata": {},
   "outputs": [],
   "source": [
    "# Create DataFrame\n",
    "df = pd.DataFrame({\n",
    "    \"Character\": characters,\n",
    "    \"Height\": height,\n",
    "    \"Mass\": mass\n",
    "})"
   ]
  },
  {
   "cell_type": "code",
   "execution_count": null,
   "metadata": {},
   "outputs": [],
   "source": []
  }
 ],
 "metadata": {
  "kernelspec": {
   "display_name": "Python 3 (ipykernel)",
   "language": "python",
   "name": "python3"
  },
  "language_info": {
   "codemirror_mode": {
    "name": "ipython",
    "version": 3
   },
   "file_extension": ".py",
   "mimetype": "text/x-python",
   "name": "python",
   "nbconvert_exporter": "python",
   "pygments_lexer": "ipython3",
   "version": "3.12.3"
  },
  "latex_envs": {
   "LaTeX_envs_menu_present": true,
   "autoclose": false,
   "autocomplete": true,
   "bibliofile": "biblio.bib",
   "cite_by": "apalike",
   "current_citInitial": 1,
   "eqLabelWithNumbers": true,
   "eqNumInitial": 1,
   "hotkeys": {
    "equation": "Ctrl-E",
    "itemize": "Ctrl-I"
   },
   "labels_anchors": false,
   "latex_user_defs": false,
   "report_style_numbering": false,
   "user_envs_cfg": false
  }
 },
 "nbformat": 4,
 "nbformat_minor": 2
}
