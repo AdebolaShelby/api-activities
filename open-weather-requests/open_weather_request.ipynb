{
 "cells": [
  {
   "cell_type": "code",
   "execution_count": 43,
   "metadata": {},
   "outputs": [],
   "source": [
    "# Dependencies\n",
    "import json\n",
    "import requests\n",
    "from pprint import pprint\n",
    "from dotenv import load_dotenv\n",
    "import os\n",
    "\n",
    "load_dotenv()\n",
    "api_key = os.getenv(\"OPEN_WEATHERMAP_API_KEY\")"
   ]
  },
  {
   "cell_type": "code",
   "execution_count": 44,
   "metadata": {},
   "outputs": [
    {
     "name": "stdout",
     "output_type": "stream",
     "text": [
      "http://api.openweathermap.org/geo/1.0/direct?q=Wilmington,NC,US&limit=1&appid=b55ddb756cf820530f2d3486426ce0a2\n"
     ]
    }
   ],
   "source": [
    "# Save config information\n",
    "url = \"http://api.openweathermap.org/data/2.5/weather?\"\n",
    "city = \"Wilmington\"\n",
    "state_code = \"NC\"\n",
    "country_code = \"US\"\n",
    "\n",
    "\n",
    "# Build query URL\n",
    "#query_url = f\"{url}appid={api_key}&q={city}\"\n",
    "\n",
    "query_url = f\"http://api.openweathermap.org/geo/1.0/direct?q={city},{state_code},{country_code}&limit={limit}&appid={api_key}\"\n",
    "print(query_url)"
   ]
  },
  {
   "cell_type": "code",
   "execution_count": 54,
   "metadata": {},
   "outputs": [
    {
     "name": "stdout",
     "output_type": "stream",
     "text": [
      "[\n",
      "    {\n",
      "        \"name\": \"Wilmington\",\n",
      "        \"local_names\": {\n",
      "            \"en\": \"Wilmington\",\n",
      "            \"ru\": \"\\u0423\\u0438\\u043b\\u043c\\u0438\\u043d\\u0433\\u0442\\u043e\\u043d\",\n",
      "            \"uk\": \"\\u0412\\u0456\\u043b\\u043c\\u0456\\u043d\\u0433\\u0442\\u043e\\u043d\"\n",
      "        },\n",
      "        \"lat\": 34.2257282,\n",
      "        \"lon\": -77.9447107,\n",
      "        \"country\": \"US\",\n",
      "        \"state\": \"North Carolina\"\n",
      "    }\n",
      "]\n",
      "34.2257282\n",
      "-77.9447107\n",
      "{\n",
      "    \"coord\": {\n",
      "        \"lon\": -77.9447,\n",
      "        \"lat\": 34.2257\n",
      "    },\n",
      "    \"weather\": [\n",
      "        {\n",
      "            \"id\": 803,\n",
      "            \"main\": \"Clouds\",\n",
      "            \"description\": \"broken clouds\",\n",
      "            \"icon\": \"04d\"\n",
      "        }\n",
      "    ],\n",
      "    \"base\": \"stations\",\n",
      "    \"main\": {\n",
      "        \"temp\": 302.09,\n",
      "        \"feels_like\": 303.5,\n",
      "        \"temp_min\": 301.42,\n",
      "        \"temp_max\": 303.68,\n",
      "        \"pressure\": 1018,\n",
      "        \"humidity\": 56,\n",
      "        \"sea_level\": 1018,\n",
      "        \"grnd_level\": 1018\n",
      "    },\n",
      "    \"visibility\": 10000,\n",
      "    \"wind\": {\n",
      "        \"speed\": 3.6,\n",
      "        \"deg\": 80\n",
      "    },\n",
      "    \"clouds\": {\n",
      "        \"all\": 75\n",
      "    },\n",
      "    \"dt\": 1722195877,\n",
      "    \"sys\": {\n",
      "        \"type\": 2,\n",
      "        \"id\": 2076500,\n",
      "        \"country\": \"US\",\n",
      "        \"sunrise\": 1722162007,\n",
      "        \"sunset\": 1722212171\n",
      "    },\n",
      "    \"timezone\": -14400,\n",
      "    \"id\": 4499379,\n",
      "    \"name\": \"Wilmington\",\n",
      "    \"cod\": 200\n",
      "}\n",
      "The weather in Wilmington is {'coord': {'lon': -77.9447, 'lat': 34.2257}, 'weather': [{'id': 803, 'main': 'Clouds', 'description': 'broken clouds', 'icon': '04d'}], 'base': 'stations', 'main': {'temp': 302.09, 'feels_like': 303.5, 'temp_min': 301.42, 'temp_max': 303.68, 'pressure': 1018, 'humidity': 56, 'sea_level': 1018, 'grnd_level': 1018}, 'visibility': 10000, 'wind': {'speed': 3.6, 'deg': 80}, 'clouds': {'all': 75}, 'dt': 1722195877, 'sys': {'type': 2, 'id': 2076500, 'country': 'US', 'sunrise': 1722162007, 'sunset': 1722212171}, 'timezone': -14400, 'id': 4499379, 'name': 'Wilmington', 'cod': 200} degrees\n"
     ]
    }
   ],
   "source": [
    "# Get weather data\n",
    "weather_response = requests.get(query_url).json()\n",
    "print(json.dumps(weather_response, indent=4))\n",
    "lat = weather_response[0][\"lat\"]\n",
    "print(weather_response[0][\"lat\"])\n",
    "lon = weather_response[0][\"lon\"]\n",
    "print(weather_response[0][\"lon\"])\n",
    "\n",
    "# Get the weather data for Wilmington\n",
    "weather_wilmington = requests.get(f\"http://api.openweathermap.org/data/2.5/weather?lat={weather_response[0]['lat']}&lon={weather_response[0]['lon']}&appid={api_key}\").json()\n",
    "print(json.dumps(weather_wilmington, indent=4))\n",
    "print(f\"The weather in {city} is {weather_wilmington} degrees\")\n",
    "\n",
    "\n",
    "\n",
    "\n",
    "\n"
   ]
  },
  {
   "cell_type": "code",
   "execution_count": null,
   "metadata": {},
   "outputs": [],
   "source": []
  }
 ],
 "metadata": {
  "kernelspec": {
   "display_name": "Python 3 (ipykernel)",
   "language": "python",
   "name": "python3"
  },
  "language_info": {
   "codemirror_mode": {
    "name": "ipython",
    "version": 3
   },
   "file_extension": ".py",
   "mimetype": "text/x-python",
   "name": "python",
   "nbconvert_exporter": "python",
   "pygments_lexer": "ipython3",
   "version": "3.12.3"
  },
  "varInspector": {
   "cols": {
    "lenName": 16,
    "lenType": 16,
    "lenVar": 40
   },
   "kernels_config": {
    "python": {
     "delete_cmd_postfix": "",
     "delete_cmd_prefix": "del ",
     "library": "var_list.py",
     "varRefreshCmd": "print(var_dic_list())"
    },
    "r": {
     "delete_cmd_postfix": ") ",
     "delete_cmd_prefix": "rm(",
     "library": "var_list.r",
     "varRefreshCmd": "cat(var_dic_list()) "
    }
   },
   "types_to_exclude": [
    "module",
    "function",
    "builtin_function_or_method",
    "instance",
    "_Feature"
   ],
   "window_display": false
  }
 },
 "nbformat": 4,
 "nbformat_minor": 2
}
