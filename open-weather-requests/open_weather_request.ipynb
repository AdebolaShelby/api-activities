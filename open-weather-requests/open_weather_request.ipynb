{
 "cells": [
  {
   "cell_type": "code",
   "execution_count": 1,
   "metadata": {},
   "outputs": [],
   "source": [
    "# Dependencies\n",
    "import json\n",
    "import requests\n",
    "from pprint import pprint\n",
    "from dotenv import load_dotenv\n",
    "import os\n",
    "\n",
    "load_dotenv()\n",
    "api_key = os.getenv(\"OPEN_WEATHERMAP_API_KEY\")"
   ]
  },
  {
   "cell_type": "code",
   "execution_count": 2,
   "metadata": {},
   "outputs": [],
   "source": [
    "# Save config information\n",
    "url = \"http://api.openweathermap.org/data/2.5/weather?\"\n",
    "city = \"Wilmington\"\n",
    "state_code = \"NC\"\n",
    "country_code = \"US\"\n",
    "\n",
    "\n",
    "# Build query URL\n",
    "query_url = f\"{url}appid={api_key}&q={city}\""
   ]
  },
  {
   "cell_type": "code",
   "execution_count": 3,
   "metadata": {},
   "outputs": [
    {
     "name": "stdout",
     "output_type": "stream",
     "text": [
      "{\n",
      "    \"coord\": {\n",
      "        \"lon\": -77.9447,\n",
      "        \"lat\": 34.2257\n",
      "    },\n",
      "    \"weather\": [\n",
      "        {\n",
      "            \"id\": 800,\n",
      "            \"main\": \"Clear\",\n",
      "            \"description\": \"clear sky\",\n",
      "            \"icon\": \"01d\"\n",
      "        }\n",
      "    ],\n",
      "    \"base\": \"stations\",\n",
      "    \"main\": {\n",
      "        \"temp\": 301.65,\n",
      "        \"feels_like\": 302.74,\n",
      "        \"temp_min\": 300.33,\n",
      "        \"temp_max\": 303.66,\n",
      "        \"pressure\": 1018,\n",
      "        \"humidity\": 55,\n",
      "        \"sea_level\": 1018,\n",
      "        \"grnd_level\": 1018\n",
      "    },\n",
      "    \"visibility\": 10000,\n",
      "    \"wind\": {\n",
      "        \"speed\": 4.12,\n",
      "        \"deg\": 130\n",
      "    },\n",
      "    \"clouds\": {\n",
      "        \"all\": 0\n",
      "    },\n",
      "    \"dt\": 1722201087,\n",
      "    \"sys\": {\n",
      "        \"type\": 2,\n",
      "        \"id\": 2076500,\n",
      "        \"country\": \"US\",\n",
      "        \"sunrise\": 1722162007,\n",
      "        \"sunset\": 1722212171\n",
      "    },\n",
      "    \"timezone\": -14400,\n",
      "    \"id\": 4499379,\n",
      "    \"name\": \"Wilmington\",\n",
      "    \"cod\": 200\n",
      "}\n"
     ]
    }
   ],
   "source": [
    "# Get weather data\n",
    "weather_response = requests.get(query_url).json()\n",
    "print(json.dumps(weather_response, indent=4))\n"
   ]
  },
  {
   "cell_type": "code",
   "execution_count": 4,
   "metadata": {},
   "outputs": [
    {
     "name": "stdout",
     "output_type": "stream",
     "text": [
      "34.2257\n",
      "-77.9447\n",
      "301.65\n"
     ]
    }
   ],
   "source": [
    "latitute = weather_response[\"coord\"][\"lat\"]\n",
    "print(latitute)\n",
    "logitude = weather_response[\"coord\"][\"lon\"]\n",
    "print(logitude)\n",
    "temperature = weather_response[\"main\"][\"temp\"]\n",
    "print(temperature)"
   ]
  },
  {
   "cell_type": "code",
   "execution_count": 5,
   "metadata": {},
   "outputs": [
    {
     "name": "stdout",
     "output_type": "stream",
     "text": [
      "{\n",
      "    \"coord\": {\n",
      "        \"lon\": -77.9447,\n",
      "        \"lat\": 34.2257\n",
      "    },\n",
      "    \"weather\": [\n",
      "        {\n",
      "            \"id\": 800,\n",
      "            \"main\": \"Clear\",\n",
      "            \"description\": \"clear sky\",\n",
      "            \"icon\": \"01d\"\n",
      "        }\n",
      "    ],\n",
      "    \"base\": \"stations\",\n",
      "    \"main\": {\n",
      "        \"temp\": 301.41,\n",
      "        \"feels_like\": 302.52,\n",
      "        \"temp_min\": 300.33,\n",
      "        \"temp_max\": 303.07,\n",
      "        \"pressure\": 1018,\n",
      "        \"humidity\": 56,\n",
      "        \"sea_level\": 1018,\n",
      "        \"grnd_level\": 1018\n",
      "    },\n",
      "    \"visibility\": 10000,\n",
      "    \"wind\": {\n",
      "        \"speed\": 4.12,\n",
      "        \"deg\": 130\n",
      "    },\n",
      "    \"clouds\": {\n",
      "        \"all\": 0\n",
      "    },\n",
      "    \"dt\": 1722200755,\n",
      "    \"sys\": {\n",
      "        \"type\": 2,\n",
      "        \"id\": 2076500,\n",
      "        \"country\": \"US\",\n",
      "        \"sunrise\": 1722162007,\n",
      "        \"sunset\": 1722212171\n",
      "    },\n",
      "    \"timezone\": -14400,\n",
      "    \"id\": 4499379,\n",
      "    \"name\": \"Wilmington\",\n",
      "    \"cod\": 200\n",
      "}\n",
      "The weather in Wilmington is 301.41 degrees\n",
      "The weather in Wilmington is 82.86800000000008 degrees Fahrenheit\n",
      "The humidity in Wilmington is 56%\n",
      "The wind speed in Wilmington is 4.12 mph\n",
      "The weather in Wilmington is clear sky\n"
     ]
    }
   ],
   "source": [
    "# Get the weather data for Wilmington\n",
    "weather_in_wilmington = requests.get(f\"http://api.openweathermap.org/data/2.5/weather?lat={latitute}&lon={logitude}&appid={api_key}\").json()\n",
    "print(json.dumps(weather_in_wilmington, indent=4))\n",
    "print(f\"The weather in {city} is {weather_in_wilmington['main']['temp']} degrees\")\n",
    "convert_temp = (weather_in_wilmington['main']['temp'] - 273.15) * 9/5 + 32\n",
    "print(f\"The weather in {city} is {convert_temp} degrees Fahrenheit\")\n",
    "print(f\"The humidity in {city} is {weather_in_wilmington['main']['humidity']}%\")\n",
    "print(f\"The wind speed in {city} is {weather_in_wilmington['wind']['speed']} mph\")\n",
    "print(f\"The weather in {city} is {weather_in_wilmington['weather'][0]['description']}\")"
   ]
  }
 ],
 "metadata": {
  "kernelspec": {
   "display_name": "Python 3 (ipykernel)",
   "language": "python",
   "name": "python3"
  },
  "language_info": {
   "codemirror_mode": {
    "name": "ipython",
    "version": 3
   },
   "file_extension": ".py",
   "mimetype": "text/x-python",
   "name": "python",
   "nbconvert_exporter": "python",
   "pygments_lexer": "ipython3",
   "version": "3.12.3"
  },
  "varInspector": {
   "cols": {
    "lenName": 16,
    "lenType": 16,
    "lenVar": 40
   },
   "kernels_config": {
    "python": {
     "delete_cmd_postfix": "",
     "delete_cmd_prefix": "del ",
     "library": "var_list.py",
     "varRefreshCmd": "print(var_dic_list())"
    },
    "r": {
     "delete_cmd_postfix": ") ",
     "delete_cmd_prefix": "rm(",
     "library": "var_list.r",
     "varRefreshCmd": "cat(var_dic_list()) "
    }
   },
   "types_to_exclude": [
    "module",
    "function",
    "builtin_function_or_method",
    "instance",
    "_Feature"
   ],
   "window_display": false
  }
 },
 "nbformat": 4,
 "nbformat_minor": 2
}
