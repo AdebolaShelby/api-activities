{
 "cells": [
  {
   "cell_type": "code",
   "execution_count": 1,
   "metadata": {},
   "outputs": [],
   "source": [
    "# Dependencies\n",
    "import matplotlib.pyplot as plt\n",
    "import requests\n",
    "import pandas as pd\n",
    "from dotenv import load_dotenv\n",
    "import os\n",
    "\n",
    "load_dotenv()\n",
    "api_key = os.getenv(\"OPEN_WEATHERMAP_API_KEY\")"
   ]
  },
  {
   "cell_type": "code",
   "execution_count": 2,
   "metadata": {},
   "outputs": [],
   "source": [
    "# Save config information.\n",
    "url = \"http://api.openweathermap.org/data/2.5/weather?\"\n",
    "\n",
    "# Build partial query URL\n",
    "query_url = f\"http://api.openweathermap.org/data/2.5/weather?appid={api_key}&q=\""
   ]
  },
  {
   "cell_type": "code",
   "execution_count": 10,
   "metadata": {},
   "outputs": [
    {
     "name": "stdout",
     "output_type": "stream",
     "text": [
      "The latitude information received is: [51.5085, 40.7143, 48.8534, 36.175, 59.3326, -33.8679, 35.6895, -33.9258, -22.9028, 39.9075]\n",
      "The longitude information received is: [-0.1257, -74.006, 2.3488, -115.1372, 18.0649, 151.2073, 139.6917, 18.4232, -43.2075, 116.3972]\n",
      "The temperature information received is: [290.02, 298.91, 291.34, 313.16, 289.18, 282.33, 305.84, 282.51, 298.35, 302.09]\n"
     ]
    }
   ],
   "source": [
    "# List of cities\n",
    "cities = [\"London\", \"New York\", \"Paris\", \"Las Vegas\", \"Stockholm\", \"Sydney\", \"Tokyo\", \"Cape Town\", \"Rio de Janeiro\", \"Beijing\"]\n",
    "\n",
    "# set up lists to hold response info\n",
    "list_lat = []\n",
    "list_lng = []\n",
    "temp = []\n",
    "\n",
    "# Loop through the list of cities and perform a request for data on each\n",
    "for city in cities:\n",
    "    response = requests.get(query_url + city).json()\n",
    "    list_lat.append(response['coord']['lat'])\n",
    "    list_lng.append(response['coord']['lon'])\n",
    "    temp.append(response['main']['temp'])\n",
    "    \n",
    "\n",
    "# Print the results\n",
    "print(f\"The latitude information received is: {list_lat}\")\n",
    "print(f\"The longitude information received is: {list_lng}\")\n",
    "print(f\"The temperature information received is: {temp}\")"
   ]
  },
  {
   "cell_type": "code",
   "execution_count": null,
   "metadata": {},
   "outputs": [],
   "source": []
  },
  {
   "cell_type": "code",
   "execution_count": 15,
   "metadata": {},
   "outputs": [
    {
     "data": {
      "text/html": [
       "<div>\n",
       "<style scoped>\n",
       "    .dataframe tbody tr th:only-of-type {\n",
       "        vertical-align: middle;\n",
       "    }\n",
       "\n",
       "    .dataframe tbody tr th {\n",
       "        vertical-align: top;\n",
       "    }\n",
       "\n",
       "    .dataframe thead th {\n",
       "        text-align: right;\n",
       "    }\n",
       "</style>\n",
       "<table border=\"1\" class=\"dataframe\">\n",
       "  <thead>\n",
       "    <tr style=\"text-align: right;\">\n",
       "      <th></th>\n",
       "      <th>city</th>\n",
       "      <th>lat</th>\n",
       "      <th>lng</th>\n",
       "      <th>temp</th>\n",
       "    </tr>\n",
       "  </thead>\n",
       "  <tbody>\n",
       "    <tr>\n",
       "      <th>0</th>\n",
       "      <td>London</td>\n",
       "      <td>51.5085</td>\n",
       "      <td>-0.1257</td>\n",
       "      <td>290.02</td>\n",
       "    </tr>\n",
       "    <tr>\n",
       "      <th>1</th>\n",
       "      <td>New York</td>\n",
       "      <td>40.7143</td>\n",
       "      <td>-74.0060</td>\n",
       "      <td>298.91</td>\n",
       "    </tr>\n",
       "    <tr>\n",
       "      <th>2</th>\n",
       "      <td>Paris</td>\n",
       "      <td>48.8534</td>\n",
       "      <td>2.3488</td>\n",
       "      <td>291.34</td>\n",
       "    </tr>\n",
       "    <tr>\n",
       "      <th>3</th>\n",
       "      <td>Las Vegas</td>\n",
       "      <td>36.1750</td>\n",
       "      <td>-115.1372</td>\n",
       "      <td>313.16</td>\n",
       "    </tr>\n",
       "    <tr>\n",
       "      <th>4</th>\n",
       "      <td>Stockholm</td>\n",
       "      <td>59.3326</td>\n",
       "      <td>18.0649</td>\n",
       "      <td>289.18</td>\n",
       "    </tr>\n",
       "    <tr>\n",
       "      <th>5</th>\n",
       "      <td>Sydney</td>\n",
       "      <td>-33.8679</td>\n",
       "      <td>151.2073</td>\n",
       "      <td>282.33</td>\n",
       "    </tr>\n",
       "    <tr>\n",
       "      <th>6</th>\n",
       "      <td>Tokyo</td>\n",
       "      <td>35.6895</td>\n",
       "      <td>139.6917</td>\n",
       "      <td>305.84</td>\n",
       "    </tr>\n",
       "    <tr>\n",
       "      <th>7</th>\n",
       "      <td>Cape Town</td>\n",
       "      <td>-33.9258</td>\n",
       "      <td>18.4232</td>\n",
       "      <td>282.51</td>\n",
       "    </tr>\n",
       "    <tr>\n",
       "      <th>8</th>\n",
       "      <td>Rio de Janeiro</td>\n",
       "      <td>-22.9028</td>\n",
       "      <td>-43.2075</td>\n",
       "      <td>298.35</td>\n",
       "    </tr>\n",
       "    <tr>\n",
       "      <th>9</th>\n",
       "      <td>Beijing</td>\n",
       "      <td>39.9075</td>\n",
       "      <td>116.3972</td>\n",
       "      <td>302.09</td>\n",
       "    </tr>\n",
       "  </tbody>\n",
       "</table>\n",
       "</div>"
      ],
      "text/plain": [
       "             city      lat       lng    temp\n",
       "0          London  51.5085   -0.1257  290.02\n",
       "1        New York  40.7143  -74.0060  298.91\n",
       "2           Paris  48.8534    2.3488  291.34\n",
       "3       Las Vegas  36.1750 -115.1372  313.16\n",
       "4       Stockholm  59.3326   18.0649  289.18\n",
       "5          Sydney -33.8679  151.2073  282.33\n",
       "6           Tokyo  35.6895  139.6917  305.84\n",
       "7       Cape Town -33.9258   18.4232  282.51\n",
       "8  Rio de Janeiro -22.9028  -43.2075  298.35\n",
       "9         Beijing  39.9075  116.3972  302.09"
      ]
     },
     "execution_count": 15,
     "metadata": {},
     "output_type": "execute_result"
    }
   ],
   "source": [
    "# create a DataFrame from cities, lat, and temp\n",
    "df_city = cities\n",
    "df_lat = list_lat\n",
    "df_lng = list_lng\n",
    "df_temp = temp\n",
    "\n",
    "dict = {\"city\": df_city, \"lat\": df_lat, \"lng\": df_lng, \"temp\": df_temp}\n",
    "df = pd.DataFrame(dict)\n",
    "df"
   ]
  },
  {
   "cell_type": "code",
   "execution_count": 23,
   "metadata": {},
   "outputs": [
    {
     "data": {
      "image/png": "[encoded data removed]",
      "text/plain": [
       "<Figure size 640x480 with 1 Axes>"
      ]
     },
     "metadata": {},
     "output_type": "display_data"
    }
   ],
   "source": [
    "# Build a scatter plot for each data type\n",
    "scatter_plt = plt.scatter(df[\"lat\"], df[\"temp\"], marker=\"o\", facecolors=\"red\", edgecolors=\"black\", alpha=0.75)\n",
    "#line_plt = plt.plot(df[\"lat\"], df[\"temp\"], color=\"blue\")\n",
    "\n",
    "\n",
    "# Incorporate the other graph properties\n",
    "plt.title(\"Temperature in World Cities\")\n",
    "plt.ylabel(\"Temperature (F)\")\n",
    "plt.xlabel(\"Latitude\")\n",
    "plt.grid(True)\n",
    "\n",
    "\n",
    "# Save the figure\n",
    "plt.savefig(\"TemperatureInWorldCities.png\")\n",
    "\n",
    "# Show plot\n",
    "plt.show()"
   ]
  }
 ],
 "metadata": {
  "kernelspec": {
   "display_name": "Python 3 (ipykernel)",
   "language": "python",
   "name": "python3"
  },
  "language_info": {
   "codemirror_mode": {
    "name": "ipython",
    "version": 3
   },
   "file_extension": ".py",
   "mimetype": "text/x-python",
   "name": "python",
   "nbconvert_exporter": "python",
   "pygments_lexer": "ipython3",
   "version": "3.12.3"
  },
  "varInspector": {
   "cols": {
    "lenName": 16,
    "lenType": 16,
    "lenVar": 40
   },
   "kernels_config": {
    "python": {
     "delete_cmd_postfix": "",
     "delete_cmd_prefix": "del ",
     "library": "var_list.py",
     "varRefreshCmd": "print(var_dic_list())"
    },
    "r": {
     "delete_cmd_postfix": ") ",
     "delete_cmd_prefix": "rm(",
     "library": "var_list.r",
     "varRefreshCmd": "cat(var_dic_list()) "
    }
   },
   "types_to_exclude": [
    "module",
    "function",
    "builtin_function_or_method",
    "instance",
    "_Feature"
   ],
   "window_display": false
  }
 },
 "nbformat": 4,
 "nbformat_minor": 2
}
